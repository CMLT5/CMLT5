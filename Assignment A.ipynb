{
 "cells": [
  {
   "cell_type": "markdown",
   "metadata": {},
   "source": [
    "### 1. Identify all GP practices located in London. For those practices, describe:"
   ]
  },
  {
   "cell_type": "code",
   "execution_count": 1,
   "metadata": {},
   "outputs": [],
   "source": [
    "import pandas as pd\n",
    "import numpy as np\n",
    "\n",
    "%matplotlib inline\n",
    "import random\n",
    "import matplotlib.pyplot as plt"
   ]
  },
  {
   "cell_type": "code",
   "execution_count": null,
   "metadata": {},
   "outputs": [],
   "source": [
    "T1='https://files.digital.nhs.uk/38/03EC1C/T201804PDPI%20BNFT.CSV'\n",
    "T2='https://files.digital.nhs.uk/20/09E30B/T201804ADDR%20BNFT.CSV'\n",
    "T4='https://files.digital.nhs.uk/71/B59D99/gp-reg-pat-prac-all.csv'"
   ]
  },
  {
   "cell_type": "code",
   "execution_count": 3,
   "metadata": {},
   "outputs": [],
   "source": [
    "T01=pd.read_csv(T1)"
   ]
  },
  {
   "cell_type": "code",
   "execution_count": 4,
   "metadata": {
    "scrolled": true
   },
   "outputs": [
    {
     "data": {
      "text/plain": [
       "Index([' SHA', 'PCT', 'PRACTICE', 'BNF CODE',\n",
       "       'BNF NAME                                    ', 'ITEMS  ',\n",
       "       'NIC        ', 'ACT COST   ', 'QUANTITY', 'PERIOD',\n",
       "       '                 '],\n",
       "      dtype='object')"
      ]
     },
     "execution_count": 4,
     "metadata": {},
     "output_type": "execute_result"
    }
   ],
   "source": [
    "T01.columns"
   ]
  },
  {
   "cell_type": "markdown",
   "metadata": {},
   "source": [
    "##### T01 has data 'SHA', 'PCT', 'PRACTICE', 'BNF_CODE', 'BNF_NAME', 'ITEMS', 'NIC','ACT_COST', 'QUANTITY', 'PERIOD'."
   ]
  },
  {
   "cell_type": "code",
   "execution_count": 5,
   "metadata": {
    "scrolled": true
   },
   "outputs": [],
   "source": [
    "T01.columns = [\n",
    "    'SHA', \n",
    "    'PCT', \n",
    "    'PRACTICE_CODE', \n",
    "    'BNF_CODE', \n",
    "    'BNF_NAME', \n",
    "    'ITEMS', \n",
    "    'NIC', \n",
    "    'ACT_COST',\n",
    "    'QUANTITY',\n",
    "    'PERIOD',\n",
    "    ''\n",
    "]"
   ]
  },
  {
   "cell_type": "code",
   "execution_count": 6,
   "metadata": {},
   "outputs": [],
   "source": [
    "T02=pd.read_csv(T2)"
   ]
  },
  {
   "cell_type": "markdown",
   "metadata": {},
   "source": [
    "##### T02 has no titles, need to be renamed for the further using. T02 has data of 'period', 'practice_code', 'practice_name', 'practice_organization', 'street', 'area', 'city', 'postcode'."
   ]
  },
  {
   "cell_type": "code",
   "execution_count": 7,
   "metadata": {
    "scrolled": true
   },
   "outputs": [],
   "source": [
    "# 2. Create custom column names and read in the file again using the column names as the header.\n",
    "cols = [\n",
    "    'PERIOD', \n",
    "    'PRACTICE_CODE', \n",
    "    'PRACTICE_NAME', \n",
    "    'ORGANIZATION', \n",
    "    'STREET', \n",
    "    'AREA', \n",
    "    'CITY', \n",
    "    'POSTCODE'\n",
    "]\n",
    "T02 = pd.read_csv(T2, sep=',',header=None, names=cols,index_col=False)"
   ]
  },
  {
   "cell_type": "code",
   "execution_count": 10,
   "metadata": {
    "scrolled": false
   },
   "outputs": [],
   "source": [
    "T04 = pd.read_csv(T4)\n",
    "\n",
    "T04.columns=['PUBLICATION', 'EXTRACT_DATE', 'TYPE', 'CCG_CODE', 'ONS_CCG_CODE',\n",
    "       'PRACTICE_CODE', 'POSTCODE', 'SEX', 'AGE', 'NUMBER_OF_PATIENTS']\n"
   ]
  },
  {
   "cell_type": "markdown",
   "metadata": {},
   "source": [
    "All the analysis and narrative were based on the GP practice Prescribing dataset (April 2018) with the aiming of assessing GP prescribing costs in different area. "
   ]
  },
  {
   "cell_type": "markdown",
   "metadata": {},
   "source": [
    "### 1.1 The total number of patients registered"
   ]
  },
  {
   "cell_type": "markdown",
   "metadata": {},
   "source": [
    "##### T04 has data of 'PUBLICATION', 'EXTRACT_DATE', 'TYPE', 'CCG_CODE', 'ONS_CCG_CODE','CODE', 'POSTCODE', 'SEX', 'AGE', 'NUMBER_OF_PATIENTS'."
   ]
  },
  {
   "cell_type": "markdown",
   "metadata": {},
   "source": [
    "# London"
   ]
  },
  {
   "cell_type": "code",
   "execution_count": 11,
   "metadata": {
    "scrolled": true
   },
   "outputs": [],
   "source": [
    "practice_London_CCG = T04[(T04.CCG_CODE.str.startswith('08'))|(T04.CCG_CODE.str.strip()==('07L'))|(T04.CCG_CODE.str.strip()==('07M'))|(T04.CCG_CODE.str.strip()==('07N'))|(T04.CCG_CODE.str.strip()==('07O'))|(T04.CCG_CODE.str.strip()==('07P'))|(T04.CCG_CODE.str.strip()==('07Q'))|(T04.CCG_CODE.str.strip()==('07R'))|(T04.CCG_CODE.str.strip()==('07S'))|(T04.CCG_CODE.str.strip()==('07T'))|(T04.CCG_CODE.str.strip()==('07U'))|(T04.CCG_CODE.str.strip()==('07V'))|(T04.CCG_CODE.str.strip()==('07W'))|(T04.CCG_CODE.str.strip()==('07X'))|(T04.CCG_CODE.str.strip()==('07Y'))|(T04.CCG_CODE.str.strip()==('07Z'))|(T04.CCG_CODE.str.strip()==('09A'))]                 "
   ]
  },
  {
   "cell_type": "code",
   "execution_count": 12,
   "metadata": {},
   "outputs": [
    {
     "data": {
      "text/plain": [
       "1323"
      ]
     },
     "execution_count": 12,
     "metadata": {},
     "output_type": "execute_result"
    }
   ],
   "source": [
    "number_of_patients_London = np.array(practice_London_CCG.NUMBER_OF_PATIENTS)\n",
    "len(number_of_patients_London)"
   ]
  },
  {
   "cell_type": "code",
   "execution_count": 13,
   "metadata": {},
   "outputs": [
    {
     "data": {
      "text/plain": [
       "9851208"
      ]
     },
     "execution_count": 13,
     "metadata": {},
     "output_type": "execute_result"
    }
   ],
   "source": [
    "sum(number_of_patients_London)"
   ]
  },
  {
   "cell_type": "markdown",
   "metadata": {},
   "source": [
    "1.1 The total number of patients registered\n",
    "After cleaning the databases. Firstly, Clinical Commissioning Groups (CCG) Names and Codes in England were used to identify all the GP practices in London. Through checking the CCG list renewed in April 2017. I found that codes from 07L to 09A represented the practicing location as London. Then, by identifying and using the practice codes in CCG, I can further find other information related to all GP practices located in London. The practice codes were used as ‘key’ to identify matched column of ‘number of patients’. There were 1323 practices codes. After the above operation, results showed that the total number of patients registered in London was 9851208. \n"
   ]
  },
  {
   "cell_type": "code",
   "execution_count": 14,
   "metadata": {},
   "outputs": [],
   "source": [
    "PRACTICE_CODE_London_array=np.array(practice_London_CCG.PRACTICE_CODE)"
   ]
  },
  {
   "cell_type": "code",
   "execution_count": 15,
   "metadata": {},
   "outputs": [],
   "source": [
    "practicenumber_London=T01.loc[T01['PRACTICE_CODE'].isin(PRACTICE_CODE_London_array)]"
   ]
  },
  {
   "cell_type": "code",
   "execution_count": 16,
   "metadata": {},
   "outputs": [
    {
     "data": {
      "text/plain": [
       "(890389995, 635.3801655546438)"
      ]
     },
     "execution_count": 16,
     "metadata": {},
     "output_type": "execute_result"
    }
   ],
   "source": [
    "QUANTITY_London_array=np.array(practicenumber_London.QUANTITY)\n",
    "sum(QUANTITY_London_array), np.mean(QUANTITY_London_array)"
   ]
  },
  {
   "cell_type": "markdown",
   "metadata": {},
   "source": [
    "1.2 The total number of prescriptions\n",
    "Next, the key (practice code) was used to further identify the amount of prescriptions in London by another dataset. The total prescriptions in London was 890389995 in April 2018.\n"
   ]
  },
  {
   "cell_type": "code",
   "execution_count": 17,
   "metadata": {},
   "outputs": [
    {
     "data": {
      "text/plain": [
       "(76586738.71000625, 54.652113112355956)"
      ]
     },
     "execution_count": 17,
     "metadata": {},
     "output_type": "execute_result"
    }
   ],
   "source": [
    "COST_London_array=np.array(practicenumber_London.ACT_COST)\n",
    "sum(COST_London_array),np.mean(COST_London_array)"
   ]
  },
  {
   "cell_type": "markdown",
   "metadata": {},
   "source": [
    "1.3 The total actual cost of these prescriptions \n",
    "Then, results showed that the total actual cost of prescriptions among GP practices located in London was 76586738.7 pounds, by using the ACT COST column. \n"
   ]
  },
  {
   "cell_type": "code",
   "execution_count": 18,
   "metadata": {},
   "outputs": [
    {
     "data": {
      "text/html": [
       "<div>\n",
       "<style scoped>\n",
       "    .dataframe tbody tr th:only-of-type {\n",
       "        vertical-align: middle;\n",
       "    }\n",
       "\n",
       "    .dataframe tbody tr th {\n",
       "        vertical-align: top;\n",
       "    }\n",
       "\n",
       "    .dataframe thead th {\n",
       "        text-align: right;\n",
       "    }\n",
       "</style>\n",
       "<table border=\"1\" class=\"dataframe\">\n",
       "  <thead>\n",
       "    <tr style=\"text-align: right;\">\n",
       "      <th></th>\n",
       "      <th>SHA</th>\n",
       "      <th>PCT</th>\n",
       "      <th>PRACTICE_CODE</th>\n",
       "      <th>BNF_CODE</th>\n",
       "      <th>BNF_NAME</th>\n",
       "      <th>ITEMS</th>\n",
       "      <th>NIC</th>\n",
       "      <th>ACT_COST</th>\n",
       "      <th>QUANTITY</th>\n",
       "      <th>PERIOD</th>\n",
       "      <th></th>\n",
       "    </tr>\n",
       "  </thead>\n",
       "  <tbody>\n",
       "    <tr>\n",
       "      <th>7395174</th>\n",
       "      <td>Q63</td>\n",
       "      <td>08X</td>\n",
       "      <td>H85001</td>\n",
       "      <td>090402000BBTXA0</td>\n",
       "      <td>Nutrison_800 Complete M/Fibre Liq</td>\n",
       "      <td>71</td>\n",
       "      <td>10829.00</td>\n",
       "      <td>10043.60</td>\n",
       "      <td>980000</td>\n",
       "      <td>201804</td>\n",
       "      <td></td>\n",
       "    </tr>\n",
       "    <tr>\n",
       "      <th>7395159</th>\n",
       "      <td>Q63</td>\n",
       "      <td>08X</td>\n",
       "      <td>H85001</td>\n",
       "      <td>090402000BBPGA0</td>\n",
       "      <td>Nutrison_1000 Complete M/Fibre Liq</td>\n",
       "      <td>33</td>\n",
       "      <td>5414.64</td>\n",
       "      <td>5021.90</td>\n",
       "      <td>462000</td>\n",
       "      <td>201804</td>\n",
       "      <td></td>\n",
       "    </tr>\n",
       "    <tr>\n",
       "      <th>7301482</th>\n",
       "      <td>Q63</td>\n",
       "      <td>08Q</td>\n",
       "      <td>G85034</td>\n",
       "      <td>090402000BBAJA0</td>\n",
       "      <td>Fortisip Bottle_Liq (8 Flav)</td>\n",
       "      <td>92</td>\n",
       "      <td>2432.64</td>\n",
       "      <td>2257.17</td>\n",
       "      <td>434400</td>\n",
       "      <td>201804</td>\n",
       "      <td></td>\n",
       "    </tr>\n",
       "    <tr>\n",
       "      <th>7052336</th>\n",
       "      <td>Q63</td>\n",
       "      <td>07V</td>\n",
       "      <td>H83013</td>\n",
       "      <td>090402000BBLMA0</td>\n",
       "      <td>Nutrison Pack_Energy M/Fibre</td>\n",
       "      <td>13</td>\n",
       "      <td>5076.96</td>\n",
       "      <td>4708.49</td>\n",
       "      <td>320144</td>\n",
       "      <td>201804</td>\n",
       "      <td></td>\n",
       "    </tr>\n",
       "    <tr>\n",
       "      <th>6274298</th>\n",
       "      <td>Q61</td>\n",
       "      <td>08D</td>\n",
       "      <td>F85067</td>\n",
       "      <td>090402000BBRRA0</td>\n",
       "      <td>Ensure Plus_Milkshake Style Liq (9 Flav)</td>\n",
       "      <td>31</td>\n",
       "      <td>1752.80</td>\n",
       "      <td>1625.91</td>\n",
       "      <td>313000</td>\n",
       "      <td>201804</td>\n",
       "      <td></td>\n",
       "    </tr>\n",
       "    <tr>\n",
       "      <th>6380881</th>\n",
       "      <td>Q61</td>\n",
       "      <td>08M</td>\n",
       "      <td>F84004</td>\n",
       "      <td>090402000BBRMA0</td>\n",
       "      <td>Fresubin 2kcal_Drink (6 Flav)</td>\n",
       "      <td>33</td>\n",
       "      <td>2982.00</td>\n",
       "      <td>2765.90</td>\n",
       "      <td>284000</td>\n",
       "      <td>201804</td>\n",
       "      <td></td>\n",
       "    </tr>\n",
       "    <tr>\n",
       "      <th>6791226</th>\n",
       "      <td>Q62</td>\n",
       "      <td>08E</td>\n",
       "      <td>E84009</td>\n",
       "      <td>090402000BBNVA0</td>\n",
       "      <td>Jevity Promote_Liq</td>\n",
       "      <td>10</td>\n",
       "      <td>2980.56</td>\n",
       "      <td>2764.27</td>\n",
       "      <td>264000</td>\n",
       "      <td>201804</td>\n",
       "      <td></td>\n",
       "    </tr>\n",
       "    <tr>\n",
       "      <th>6173413</th>\n",
       "      <td>Q61</td>\n",
       "      <td>07T</td>\n",
       "      <td>F84096</td>\n",
       "      <td>090402000BBRMA0</td>\n",
       "      <td>Fresubin 2kcal_Drink (6 Flav)</td>\n",
       "      <td>44</td>\n",
       "      <td>2763.60</td>\n",
       "      <td>2563.47</td>\n",
       "      <td>263200</td>\n",
       "      <td>201804</td>\n",
       "      <td></td>\n",
       "    </tr>\n",
       "    <tr>\n",
       "      <th>6124021</th>\n",
       "      <td>Q61</td>\n",
       "      <td>07R</td>\n",
       "      <td>F83017</td>\n",
       "      <td>090402000BBRRA0</td>\n",
       "      <td>Ensure Plus_Milkshake Style Liq (9 Flav)</td>\n",
       "      <td>94</td>\n",
       "      <td>1314.88</td>\n",
       "      <td>1220.56</td>\n",
       "      <td>234800</td>\n",
       "      <td>201804</td>\n",
       "      <td></td>\n",
       "    </tr>\n",
       "    <tr>\n",
       "      <th>7395154</th>\n",
       "      <td>Q63</td>\n",
       "      <td>08X</td>\n",
       "      <td>H85001</td>\n",
       "      <td>090402000BBLMA0</td>\n",
       "      <td>Nutrison Pack_Energy M/Fibre</td>\n",
       "      <td>17</td>\n",
       "      <td>2947.84</td>\n",
       "      <td>2734.01</td>\n",
       "      <td>231000</td>\n",
       "      <td>201804</td>\n",
       "      <td></td>\n",
       "    </tr>\n",
       "  </tbody>\n",
       "</table>\n",
       "</div>"
      ],
      "text/plain": [
       "         SHA  PCT PRACTICE_CODE         BNF_CODE  \\\n",
       "7395174  Q63  08X        H85001  090402000BBTXA0   \n",
       "7395159  Q63  08X        H85001  090402000BBPGA0   \n",
       "7301482  Q63  08Q        G85034  090402000BBAJA0   \n",
       "7052336  Q63  07V        H83013  090402000BBLMA0   \n",
       "6274298  Q61  08D        F85067  090402000BBRRA0   \n",
       "6380881  Q61  08M        F84004  090402000BBRMA0   \n",
       "6791226  Q62  08E        E84009  090402000BBNVA0   \n",
       "6173413  Q61  07T        F84096  090402000BBRMA0   \n",
       "6124021  Q61  07R        F83017  090402000BBRRA0   \n",
       "7395154  Q63  08X        H85001  090402000BBLMA0   \n",
       "\n",
       "                                         BNF_NAME  ITEMS       NIC  ACT_COST  \\\n",
       "7395174  Nutrison_800 Complete M/Fibre Liq            71  10829.00  10043.60   \n",
       "7395159  Nutrison_1000 Complete M/Fibre Liq           33   5414.64   5021.90   \n",
       "7301482  Fortisip Bottle_Liq (8 Flav)                 92   2432.64   2257.17   \n",
       "7052336  Nutrison Pack_Energy M/Fibre                 13   5076.96   4708.49   \n",
       "6274298  Ensure Plus_Milkshake Style Liq (9 Flav)     31   1752.80   1625.91   \n",
       "6380881  Fresubin 2kcal_Drink (6 Flav)                33   2982.00   2765.90   \n",
       "6791226  Jevity Promote_Liq                           10   2980.56   2764.27   \n",
       "6173413  Fresubin 2kcal_Drink (6 Flav)                44   2763.60   2563.47   \n",
       "6124021  Ensure Plus_Milkshake Style Liq (9 Flav)     94   1314.88   1220.56   \n",
       "7395154  Nutrison Pack_Energy M/Fibre                 17   2947.84   2734.01   \n",
       "\n",
       "         QUANTITY  PERIOD                      \n",
       "7395174    980000  201804                      \n",
       "7395159    462000  201804                      \n",
       "7301482    434400  201804                      \n",
       "7052336    320144  201804                      \n",
       "6274298    313000  201804                      \n",
       "6380881    284000  201804                      \n",
       "6791226    264000  201804                      \n",
       "6173413    263200  201804                      \n",
       "6124021    234800  201804                      \n",
       "7395154    231000  201804                      "
      ]
     },
     "execution_count": 18,
     "metadata": {},
     "output_type": "execute_result"
    }
   ],
   "source": [
    "London_sorted = practicenumber_London.sort_values('QUANTITY', axis=0, ascending=False)\n",
    "London_top10 = London_sorted.head(10)\n",
    "London_top10"
   ]
  },
  {
   "cell_type": "markdown",
   "metadata": {},
   "source": [
    "1.4 The top 10 most frequent drugs prescribed\n",
    "The top 10 most frequent drugs prescribed in London were listed in the above Table, which included “Nutrison_800 Complete M/Fibre Liq”, “Nutrison_1000 Complete M/Fibre Liq”, “Fortisip Bottle_Liq (8 Flav)” and so on. The top 10 frequent drugs prescription amounts ranged between 980000 to 231000.\n"
   ]
  },
  {
   "cell_type": "code",
   "execution_count": 19,
   "metadata": {},
   "outputs": [
    {
     "data": {
      "text/html": [
       "<div>\n",
       "<style scoped>\n",
       "    .dataframe tbody tr th:only-of-type {\n",
       "        vertical-align: middle;\n",
       "    }\n",
       "\n",
       "    .dataframe tbody tr th {\n",
       "        vertical-align: top;\n",
       "    }\n",
       "\n",
       "    .dataframe thead th {\n",
       "        text-align: right;\n",
       "    }\n",
       "</style>\n",
       "<table border=\"1\" class=\"dataframe\">\n",
       "  <thead>\n",
       "    <tr style=\"text-align: right;\">\n",
       "      <th></th>\n",
       "      <th>SHA</th>\n",
       "      <th>PCT</th>\n",
       "      <th>PRACTICE_CODE</th>\n",
       "      <th>BNF_CODE</th>\n",
       "      <th>BNF_NAME</th>\n",
       "      <th>ITEMS</th>\n",
       "      <th>NIC</th>\n",
       "      <th>ACT_COST</th>\n",
       "      <th>QUANTITY</th>\n",
       "      <th>PERIOD</th>\n",
       "      <th></th>\n",
       "    </tr>\n",
       "  </thead>\n",
       "  <tbody>\n",
       "    <tr>\n",
       "      <th>6281693</th>\n",
       "      <td>Q61</td>\n",
       "      <td>08D</td>\n",
       "      <td>F85669</td>\n",
       "      <td>090401000BBJGA0</td>\n",
       "      <td>Calogen_Emuls (Sbery)</td>\n",
       "      <td>1</td>\n",
       "      <td>2305.00</td>\n",
       "      <td>2137.65</td>\n",
       "      <td>0</td>\n",
       "      <td>201804</td>\n",
       "      <td></td>\n",
       "    </tr>\n",
       "    <tr>\n",
       "      <th>6017696</th>\n",
       "      <td>Q61</td>\n",
       "      <td>07L</td>\n",
       "      <td>F82017</td>\n",
       "      <td>0801030P0AAFEFE</td>\n",
       "      <td>Methotrexate_Inj 20mg/0.8ml Pfs</td>\n",
       "      <td>8</td>\n",
       "      <td>128.48</td>\n",
       "      <td>119.25</td>\n",
       "      <td>0</td>\n",
       "      <td>201804</td>\n",
       "      <td></td>\n",
       "    </tr>\n",
       "    <tr>\n",
       "      <th>7088769</th>\n",
       "      <td>Q63</td>\n",
       "      <td>07V</td>\n",
       "      <td>H83611</td>\n",
       "      <td>0801030P0AAFIFI</td>\n",
       "      <td>Methotrexate_Inj 7.5mg/0.3ml Pfs</td>\n",
       "      <td>1</td>\n",
       "      <td>13.37</td>\n",
       "      <td>12.41</td>\n",
       "      <td>0</td>\n",
       "      <td>201804</td>\n",
       "      <td></td>\n",
       "    </tr>\n",
       "    <tr>\n",
       "      <th>6079239</th>\n",
       "      <td>Q61</td>\n",
       "      <td>07M</td>\n",
       "      <td>E83030</td>\n",
       "      <td>1308010Z0BBABAB</td>\n",
       "      <td>Picato_Gel 500mcg/g</td>\n",
       "      <td>1</td>\n",
       "      <td>65.00</td>\n",
       "      <td>60.29</td>\n",
       "      <td>0</td>\n",
       "      <td>201804</td>\n",
       "      <td></td>\n",
       "    </tr>\n",
       "    <tr>\n",
       "      <th>6023373</th>\n",
       "      <td>Q61</td>\n",
       "      <td>07L</td>\n",
       "      <td>F82038</td>\n",
       "      <td>1308010Z0BBABAB</td>\n",
       "      <td>Picato_Gel 500mcg/g</td>\n",
       "      <td>1</td>\n",
       "      <td>65.00</td>\n",
       "      <td>60.29</td>\n",
       "      <td>0</td>\n",
       "      <td>201804</td>\n",
       "      <td></td>\n",
       "    </tr>\n",
       "    <tr>\n",
       "      <th>7280819</th>\n",
       "      <td>Q63</td>\n",
       "      <td>08P</td>\n",
       "      <td>H84044</td>\n",
       "      <td>0803042K0AAAAAA</td>\n",
       "      <td>Goserelin Acet_Implant 3.6mg Pfs</td>\n",
       "      <td>1</td>\n",
       "      <td>65.00</td>\n",
       "      <td>60.29</td>\n",
       "      <td>1</td>\n",
       "      <td>201804</td>\n",
       "      <td></td>\n",
       "    </tr>\n",
       "    <tr>\n",
       "      <th>6910354</th>\n",
       "      <td>Q62</td>\n",
       "      <td>08Y</td>\n",
       "      <td>E87762</td>\n",
       "      <td>23802098000</td>\n",
       "      <td>H &amp; R_Proshield Foam &amp; Spy Skin Cleanser</td>\n",
       "      <td>1</td>\n",
       "      <td>6.61</td>\n",
       "      <td>6.14</td>\n",
       "      <td>1</td>\n",
       "      <td>201804</td>\n",
       "      <td></td>\n",
       "    </tr>\n",
       "    <tr>\n",
       "      <th>6277736</th>\n",
       "      <td>Q61</td>\n",
       "      <td>08D</td>\n",
       "      <td>F85623</td>\n",
       "      <td>0206010F0BFABCJ</td>\n",
       "      <td>Nitrolingual_P/Spy 400mcg (200 D)</td>\n",
       "      <td>1</td>\n",
       "      <td>3.44</td>\n",
       "      <td>3.20</td>\n",
       "      <td>1</td>\n",
       "      <td>201804</td>\n",
       "      <td></td>\n",
       "    </tr>\n",
       "    <tr>\n",
       "      <th>7304602</th>\n",
       "      <td>Q63</td>\n",
       "      <td>08Q</td>\n",
       "      <td>G85042</td>\n",
       "      <td>21120000130</td>\n",
       "      <td>Clement Clarke Stnd Range Peak Flow Mete</td>\n",
       "      <td>1</td>\n",
       "      <td>7.08</td>\n",
       "      <td>6.58</td>\n",
       "      <td>1</td>\n",
       "      <td>201804</td>\n",
       "      <td></td>\n",
       "    </tr>\n",
       "    <tr>\n",
       "      <th>6928461</th>\n",
       "      <td>Q62</td>\n",
       "      <td>09A</td>\n",
       "      <td>E87052</td>\n",
       "      <td>21300000113</td>\n",
       "      <td>Hylo-Fresh Sod Hyaluronate Eye Dps P/F 1</td>\n",
       "      <td>1</td>\n",
       "      <td>4.95</td>\n",
       "      <td>4.60</td>\n",
       "      <td>1</td>\n",
       "      <td>201804</td>\n",
       "      <td></td>\n",
       "    </tr>\n",
       "  </tbody>\n",
       "</table>\n",
       "</div>"
      ],
      "text/plain": [
       "         SHA  PCT PRACTICE_CODE         BNF_CODE  \\\n",
       "6281693  Q61  08D        F85669  090401000BBJGA0   \n",
       "6017696  Q61  07L        F82017  0801030P0AAFEFE   \n",
       "7088769  Q63  07V        H83611  0801030P0AAFIFI   \n",
       "6079239  Q61  07M        E83030  1308010Z0BBABAB   \n",
       "6023373  Q61  07L        F82038  1308010Z0BBABAB   \n",
       "7280819  Q63  08P        H84044  0803042K0AAAAAA   \n",
       "6910354  Q62  08Y        E87762  23802098000       \n",
       "6277736  Q61  08D        F85623  0206010F0BFABCJ   \n",
       "7304602  Q63  08Q        G85042  21120000130       \n",
       "6928461  Q62  09A        E87052  21300000113       \n",
       "\n",
       "                                         BNF_NAME  ITEMS      NIC  ACT_COST  \\\n",
       "6281693  Calogen_Emuls (Sbery)                         1  2305.00   2137.65   \n",
       "6017696  Methotrexate_Inj 20mg/0.8ml Pfs               8   128.48    119.25   \n",
       "7088769  Methotrexate_Inj 7.5mg/0.3ml Pfs              1    13.37     12.41   \n",
       "6079239  Picato_Gel 500mcg/g                           1    65.00     60.29   \n",
       "6023373  Picato_Gel 500mcg/g                           1    65.00     60.29   \n",
       "7280819  Goserelin Acet_Implant 3.6mg Pfs              1    65.00     60.29   \n",
       "6910354  H & R_Proshield Foam & Spy Skin Cleanser      1     6.61      6.14   \n",
       "6277736  Nitrolingual_P/Spy 400mcg (200 D)             1     3.44      3.20   \n",
       "7304602  Clement Clarke Stnd Range Peak Flow Mete      1     7.08      6.58   \n",
       "6928461  Hylo-Fresh Sod Hyaluronate Eye Dps P/F 1      1     4.95      4.60   \n",
       "\n",
       "         QUANTITY  PERIOD                      \n",
       "6281693         0  201804                      \n",
       "6017696         0  201804                      \n",
       "7088769         0  201804                      \n",
       "6079239         0  201804                      \n",
       "6023373         0  201804                      \n",
       "7280819         1  201804                      \n",
       "6910354         1  201804                      \n",
       "6277736         1  201804                      \n",
       "7304602         1  201804                      \n",
       "6928461         1  201804                      "
      ]
     },
     "execution_count": 19,
     "metadata": {},
     "output_type": "execute_result"
    }
   ],
   "source": [
    "London_sorted = practicenumber_London.sort_values('QUANTITY', axis=0, ascending=True)\n",
    "London_bottom10 = London_sorted.head(10)\n",
    "London_bottom10"
   ]
  },
  {
   "cell_type": "markdown",
   "metadata": {},
   "source": [
    "1.5 The bottom 10 less frequent drugs prescribed \n",
    "The bottom 10 less frequent drugs prescribed in London were also listed in table, which including “Calogen_Emuls (Sbery)”, “Methotrexate_Inj 7.5mg/0.3ml Pfs”, “Picato_Gel 500mcg/g” and so on. These bottom 10 less frequent prescribed drugs were normally being used only once or not been prescribed.\n"
   ]
  },
  {
   "cell_type": "markdown",
   "metadata": {},
   "source": [
    "# Cambridge"
   ]
  },
  {
   "cell_type": "code",
   "execution_count": 20,
   "metadata": {},
   "outputs": [
    {
     "data": {
      "text/plain": [
       "102"
      ]
     },
     "execution_count": 20,
     "metadata": {},
     "output_type": "execute_result"
    }
   ],
   "source": [
    "practice_Cambridge_CCG = T04[T04.CCG_CODE.str.strip()==('06H')]\n",
    "len(practice_Cambridge_CCG)"
   ]
  },
  {
   "cell_type": "code",
   "execution_count": 21,
   "metadata": {
    "scrolled": true
   },
   "outputs": [],
   "source": [
    "practice_06H=np.array(practice_Cambridge_CCG.PRACTICE_CODE)"
   ]
  },
  {
   "cell_type": "code",
   "execution_count": 22,
   "metadata": {},
   "outputs": [
    {
     "data": {
      "text/plain": [
       "127"
      ]
     },
     "execution_count": 22,
     "metadata": {},
     "output_type": "execute_result"
    }
   ],
   "source": [
    "practice_Cambridge = T02[(T02.CITY.str.contains('CAMBRIDGE'))|(T02.AREA.str.contains('CAMBRIDGE'))]\n",
    "len(practice_Cambridge)"
   ]
  },
  {
   "cell_type": "code",
   "execution_count": 23,
   "metadata": {
    "scrolled": false
   },
   "outputs": [
    {
     "data": {
      "text/plain": [
       "94"
      ]
     },
     "execution_count": 23,
     "metadata": {},
     "output_type": "execute_result"
    }
   ],
   "source": [
    "practice_Cambridge = practice_Cambridge.loc[practice_Cambridge['PRACTICE_CODE'].isin(practice_06H)]\n",
    "len(practice_Cambridge)"
   ]
  },
  {
   "cell_type": "markdown",
   "metadata": {},
   "source": [
    "2.1\n",
    "After knowing information about the GP practices in London. Similarly, we further identified the above items for the city of Cambridge. But, under the consideration of that there was no specific CCG codes for practice located in Cambridge. So, ‘city’ and ‘area’ were used firstly to identify all practices in Cambridge, where we got 96 practice codes in the city of Cambridge. In order to improve the accuracy, the CCG codes for Cambridgeshire and Peterborough PCT Cluster were used as well to further identify all the practices in Cambridge. Then, we excluded the uncertainty data, and finally, there was 94 practices codes in the city of Cambridge. \n"
   ]
  },
  {
   "cell_type": "code",
   "execution_count": 24,
   "metadata": {},
   "outputs": [],
   "source": [
    "practice_array=practice_Cambridge.PRACTICE_CODE"
   ]
  },
  {
   "cell_type": "code",
   "execution_count": 25,
   "metadata": {
    "scrolled": false
   },
   "outputs": [],
   "source": [
    "patient_Cambridge = T04.loc[T04['PRACTICE_CODE'].isin(practice_array)]"
   ]
  },
  {
   "cell_type": "code",
   "execution_count": 26,
   "metadata": {},
   "outputs": [],
   "source": [
    "patient_Cambridge_array=np.array(patient_Cambridge.NUMBER_OF_PATIENTS)"
   ]
  },
  {
   "cell_type": "code",
   "execution_count": 27,
   "metadata": {
    "scrolled": true
   },
   "outputs": [
    {
     "data": {
      "text/plain": [
       "897437"
      ]
     },
     "execution_count": 27,
     "metadata": {},
     "output_type": "execute_result"
    }
   ],
   "source": [
    "sum(patient_Cambridge_array)"
   ]
  },
  {
   "cell_type": "code",
   "execution_count": 28,
   "metadata": {},
   "outputs": [
    {
     "data": {
      "text/plain": [
       "(90268737, 690.8092614275547)"
      ]
     },
     "execution_count": 28,
     "metadata": {},
     "output_type": "execute_result"
    }
   ],
   "source": [
    "_Cambridge = T01.loc[T01['PRACTICE_CODE'].isin(practice_array)]\n",
    "sum(_Cambridge.QUANTITY), np.mean(_Cambridge.QUANTITY)"
   ]
  },
  {
   "cell_type": "code",
   "execution_count": 29,
   "metadata": {},
   "outputs": [
    {
     "data": {
      "text/plain": [
       "(8521724.439999988, 65.21511613135279)"
      ]
     },
     "execution_count": 29,
     "metadata": {},
     "output_type": "execute_result"
    }
   ],
   "source": [
    "practice_Cambridge_COST=np.array(_Cambridge.ACT_COST)\n",
    "sum(practice_Cambridge_COST),np.mean(practice_Cambridge_COST)"
   ]
  },
  {
   "cell_type": "code",
   "execution_count": 30,
   "metadata": {
    "scrolled": true
   },
   "outputs": [
    {
     "data": {
      "text/html": [
       "<div>\n",
       "<style scoped>\n",
       "    .dataframe tbody tr th:only-of-type {\n",
       "        vertical-align: middle;\n",
       "    }\n",
       "\n",
       "    .dataframe tbody tr th {\n",
       "        vertical-align: top;\n",
       "    }\n",
       "\n",
       "    .dataframe thead th {\n",
       "        text-align: right;\n",
       "    }\n",
       "</style>\n",
       "<table border=\"1\" class=\"dataframe\">\n",
       "  <thead>\n",
       "    <tr style=\"text-align: right;\">\n",
       "      <th></th>\n",
       "      <th>SHA</th>\n",
       "      <th>PCT</th>\n",
       "      <th>PRACTICE_CODE</th>\n",
       "      <th>BNF_CODE</th>\n",
       "      <th>BNF_NAME</th>\n",
       "      <th>ITEMS</th>\n",
       "      <th>NIC</th>\n",
       "      <th>ACT_COST</th>\n",
       "      <th>QUANTITY</th>\n",
       "      <th>PERIOD</th>\n",
       "      <th></th>\n",
       "    </tr>\n",
       "  </thead>\n",
       "  <tbody>\n",
       "    <tr>\n",
       "      <th>4223246</th>\n",
       "      <td>Q56</td>\n",
       "      <td>06H</td>\n",
       "      <td>D81026</td>\n",
       "      <td>090402000BBSIA0</td>\n",
       "      <td>Fortisip Compact_Liq (8 Flav)</td>\n",
       "      <td>96</td>\n",
       "      <td>2988.45</td>\n",
       "      <td>2775.37</td>\n",
       "      <td>257625</td>\n",
       "      <td>201804</td>\n",
       "      <td></td>\n",
       "    </tr>\n",
       "    <tr>\n",
       "      <th>4250344</th>\n",
       "      <td>Q56</td>\n",
       "      <td>06H</td>\n",
       "      <td>D81044</td>\n",
       "      <td>090402000BBGYA0</td>\n",
       "      <td>Nutrison Pack_Energy</td>\n",
       "      <td>6</td>\n",
       "      <td>2229.36</td>\n",
       "      <td>2067.57</td>\n",
       "      <td>159072</td>\n",
       "      <td>201804</td>\n",
       "      <td></td>\n",
       "    </tr>\n",
       "    <tr>\n",
       "      <th>4213128</th>\n",
       "      <td>Q56</td>\n",
       "      <td>06H</td>\n",
       "      <td>D81020</td>\n",
       "      <td>090402000BBSIA0</td>\n",
       "      <td>Fortisip Compact_Liq (8 Flav)</td>\n",
       "      <td>26</td>\n",
       "      <td>1821.20</td>\n",
       "      <td>1689.80</td>\n",
       "      <td>157000</td>\n",
       "      <td>201804</td>\n",
       "      <td></td>\n",
       "    </tr>\n",
       "    <tr>\n",
       "      <th>4193506</th>\n",
       "      <td>Q56</td>\n",
       "      <td>06H</td>\n",
       "      <td>D81008</td>\n",
       "      <td>0407010H0AAAMAM</td>\n",
       "      <td>Paracet_Tab 500mg</td>\n",
       "      <td>1048</td>\n",
       "      <td>1370.31</td>\n",
       "      <td>1310.25</td>\n",
       "      <td>134303</td>\n",
       "      <td>201804</td>\n",
       "      <td></td>\n",
       "    </tr>\n",
       "    <tr>\n",
       "      <th>4192163</th>\n",
       "      <td>Q56</td>\n",
       "      <td>06H</td>\n",
       "      <td>D81007</td>\n",
       "      <td>090402000BBSIA0</td>\n",
       "      <td>Fortisip Compact_Liq (8 Flav)</td>\n",
       "      <td>28</td>\n",
       "      <td>1542.80</td>\n",
       "      <td>1431.13</td>\n",
       "      <td>133000</td>\n",
       "      <td>201804</td>\n",
       "      <td></td>\n",
       "    </tr>\n",
       "    <tr>\n",
       "      <th>4286142</th>\n",
       "      <td>Q56</td>\n",
       "      <td>06H</td>\n",
       "      <td>D81082</td>\n",
       "      <td>090402000BBLMA0</td>\n",
       "      <td>Nutrison Pack_Energy M/Fibre</td>\n",
       "      <td>6</td>\n",
       "      <td>2717.15</td>\n",
       "      <td>2519.93</td>\n",
       "      <td>127608</td>\n",
       "      <td>201804</td>\n",
       "      <td></td>\n",
       "    </tr>\n",
       "    <tr>\n",
       "      <th>4248146</th>\n",
       "      <td>Q56</td>\n",
       "      <td>06H</td>\n",
       "      <td>D81043</td>\n",
       "      <td>090402000BBSIA0</td>\n",
       "      <td>Fortisip Compact_Liq (8 Flav)</td>\n",
       "      <td>27</td>\n",
       "      <td>1439.85</td>\n",
       "      <td>1335.64</td>\n",
       "      <td>124125</td>\n",
       "      <td>201804</td>\n",
       "      <td></td>\n",
       "    </tr>\n",
       "    <tr>\n",
       "      <th>4228416</th>\n",
       "      <td>Q56</td>\n",
       "      <td>06H</td>\n",
       "      <td>D81029</td>\n",
       "      <td>090402000BBSIA0</td>\n",
       "      <td>Fortisip Compact_Liq (8 Flav)</td>\n",
       "      <td>29</td>\n",
       "      <td>1386.20</td>\n",
       "      <td>1286.28</td>\n",
       "      <td>119500</td>\n",
       "      <td>201804</td>\n",
       "      <td></td>\n",
       "    </tr>\n",
       "    <tr>\n",
       "      <th>4223251</th>\n",
       "      <td>Q56</td>\n",
       "      <td>06H</td>\n",
       "      <td>D81026</td>\n",
       "      <td>090402000BBUBA0</td>\n",
       "      <td>Fortisip Compact Protein_Liq (8 Flav)</td>\n",
       "      <td>17</td>\n",
       "      <td>1824.00</td>\n",
       "      <td>1691.78</td>\n",
       "      <td>114000</td>\n",
       "      <td>201804</td>\n",
       "      <td></td>\n",
       "    </tr>\n",
       "    <tr>\n",
       "      <th>4223250</th>\n",
       "      <td>Q56</td>\n",
       "      <td>06H</td>\n",
       "      <td>D81026</td>\n",
       "      <td>090402000BBTXA0</td>\n",
       "      <td>Nutrison_800 Complete M/Fibre Liq</td>\n",
       "      <td>4</td>\n",
       "      <td>1237.60</td>\n",
       "      <td>1147.79</td>\n",
       "      <td>112000</td>\n",
       "      <td>201804</td>\n",
       "      <td></td>\n",
       "    </tr>\n",
       "  </tbody>\n",
       "</table>\n",
       "</div>"
      ],
      "text/plain": [
       "         SHA  PCT PRACTICE_CODE         BNF_CODE  \\\n",
       "4223246  Q56  06H        D81026  090402000BBSIA0   \n",
       "4250344  Q56  06H        D81044  090402000BBGYA0   \n",
       "4213128  Q56  06H        D81020  090402000BBSIA0   \n",
       "4193506  Q56  06H        D81008  0407010H0AAAMAM   \n",
       "4192163  Q56  06H        D81007  090402000BBSIA0   \n",
       "4286142  Q56  06H        D81082  090402000BBLMA0   \n",
       "4248146  Q56  06H        D81043  090402000BBSIA0   \n",
       "4228416  Q56  06H        D81029  090402000BBSIA0   \n",
       "4223251  Q56  06H        D81026  090402000BBUBA0   \n",
       "4223250  Q56  06H        D81026  090402000BBTXA0   \n",
       "\n",
       "                                         BNF_NAME  ITEMS      NIC  ACT_COST  \\\n",
       "4223246  Fortisip Compact_Liq (8 Flav)                96  2988.45   2775.37   \n",
       "4250344  Nutrison Pack_Energy                          6  2229.36   2067.57   \n",
       "4213128  Fortisip Compact_Liq (8 Flav)                26  1821.20   1689.80   \n",
       "4193506  Paracet_Tab 500mg                          1048  1370.31   1310.25   \n",
       "4192163  Fortisip Compact_Liq (8 Flav)                28  1542.80   1431.13   \n",
       "4286142  Nutrison Pack_Energy M/Fibre                  6  2717.15   2519.93   \n",
       "4248146  Fortisip Compact_Liq (8 Flav)                27  1439.85   1335.64   \n",
       "4228416  Fortisip Compact_Liq (8 Flav)                29  1386.20   1286.28   \n",
       "4223251  Fortisip Compact Protein_Liq (8 Flav)        17  1824.00   1691.78   \n",
       "4223250  Nutrison_800 Complete M/Fibre Liq             4  1237.60   1147.79   \n",
       "\n",
       "         QUANTITY  PERIOD                      \n",
       "4223246    257625  201804                      \n",
       "4250344    159072  201804                      \n",
       "4213128    157000  201804                      \n",
       "4193506    134303  201804                      \n",
       "4192163    133000  201804                      \n",
       "4286142    127608  201804                      \n",
       "4248146    124125  201804                      \n",
       "4228416    119500  201804                      \n",
       "4223251    114000  201804                      \n",
       "4223250    112000  201804                      "
      ]
     },
     "execution_count": 30,
     "metadata": {},
     "output_type": "execute_result"
    }
   ],
   "source": [
    "cambridge_sorted = _Cambridge.sort_values('QUANTITY', axis=0, ascending=False)\n",
    "cambridge_sorted_top10 = cambridge_sorted.head(10)\n",
    "cambridge_sorted_top10"
   ]
  },
  {
   "cell_type": "code",
   "execution_count": 31,
   "metadata": {},
   "outputs": [
    {
     "data": {
      "text/html": [
       "<div>\n",
       "<style scoped>\n",
       "    .dataframe tbody tr th:only-of-type {\n",
       "        vertical-align: middle;\n",
       "    }\n",
       "\n",
       "    .dataframe tbody tr th {\n",
       "        vertical-align: top;\n",
       "    }\n",
       "\n",
       "    .dataframe thead th {\n",
       "        text-align: right;\n",
       "    }\n",
       "</style>\n",
       "<table border=\"1\" class=\"dataframe\">\n",
       "  <thead>\n",
       "    <tr style=\"text-align: right;\">\n",
       "      <th></th>\n",
       "      <th>SHA</th>\n",
       "      <th>PCT</th>\n",
       "      <th>PRACTICE_CODE</th>\n",
       "      <th>BNF_CODE</th>\n",
       "      <th>BNF_NAME</th>\n",
       "      <th>ITEMS</th>\n",
       "      <th>NIC</th>\n",
       "      <th>ACT_COST</th>\n",
       "      <th>QUANTITY</th>\n",
       "      <th>PERIOD</th>\n",
       "      <th></th>\n",
       "    </tr>\n",
       "  </thead>\n",
       "  <tbody>\n",
       "    <tr>\n",
       "      <th>4240709</th>\n",
       "      <td>Q56</td>\n",
       "      <td>06H</td>\n",
       "      <td>D81037</td>\n",
       "      <td>1308010Z0AAAAAA</td>\n",
       "      <td>Ingenol Mebutate_Gel 150mcg/g</td>\n",
       "      <td>1</td>\n",
       "      <td>21.67</td>\n",
       "      <td>20.21</td>\n",
       "      <td>0</td>\n",
       "      <td>201804</td>\n",
       "      <td></td>\n",
       "    </tr>\n",
       "    <tr>\n",
       "      <th>4269129</th>\n",
       "      <td>Q56</td>\n",
       "      <td>06H</td>\n",
       "      <td>D81058</td>\n",
       "      <td>1308010Z0BBABAB</td>\n",
       "      <td>Picato_Gel 500mcg/g</td>\n",
       "      <td>1</td>\n",
       "      <td>65.00</td>\n",
       "      <td>60.28</td>\n",
       "      <td>0</td>\n",
       "      <td>201804</td>\n",
       "      <td></td>\n",
       "    </tr>\n",
       "    <tr>\n",
       "      <th>4237098</th>\n",
       "      <td>Q56</td>\n",
       "      <td>06H</td>\n",
       "      <td>D81034</td>\n",
       "      <td>21300000704</td>\n",
       "      <td>Xailin Carbomer Eye Gel 10g</td>\n",
       "      <td>1</td>\n",
       "      <td>3.28</td>\n",
       "      <td>3.05</td>\n",
       "      <td>1</td>\n",
       "      <td>201804</td>\n",
       "      <td></td>\n",
       "    </tr>\n",
       "    <tr>\n",
       "      <th>4270671</th>\n",
       "      <td>Q56</td>\n",
       "      <td>06H</td>\n",
       "      <td>D81059</td>\n",
       "      <td>21010230144</td>\n",
       "      <td>Space Chamber Plus Compact</td>\n",
       "      <td>1</td>\n",
       "      <td>4.26</td>\n",
       "      <td>3.95</td>\n",
       "      <td>1</td>\n",
       "      <td>201804</td>\n",
       "      <td></td>\n",
       "    </tr>\n",
       "    <tr>\n",
       "      <th>4200627</th>\n",
       "      <td>Q56</td>\n",
       "      <td>06H</td>\n",
       "      <td>D81012</td>\n",
       "      <td>0402020ABBBAAAA</td>\n",
       "      <td>Xeplion_Inj 50mg/0.5ml Pfs</td>\n",
       "      <td>1</td>\n",
       "      <td>183.92</td>\n",
       "      <td>170.58</td>\n",
       "      <td>1</td>\n",
       "      <td>201804</td>\n",
       "      <td></td>\n",
       "    </tr>\n",
       "    <tr>\n",
       "      <th>4200628</th>\n",
       "      <td>Q56</td>\n",
       "      <td>06H</td>\n",
       "      <td>D81012</td>\n",
       "      <td>0402020ADAAAAAA</td>\n",
       "      <td>Aripiprazole_Inj 400mg Vl + Dil</td>\n",
       "      <td>1</td>\n",
       "      <td>220.41</td>\n",
       "      <td>204.43</td>\n",
       "      <td>1</td>\n",
       "      <td>201804</td>\n",
       "      <td></td>\n",
       "    </tr>\n",
       "    <tr>\n",
       "      <th>4200630</th>\n",
       "      <td>Q56</td>\n",
       "      <td>06H</td>\n",
       "      <td>D81012</td>\n",
       "      <td>0402020G0BBAAAA</td>\n",
       "      <td>Depixol_Inj 20mg/ml 1ml Amp</td>\n",
       "      <td>1</td>\n",
       "      <td>1.52</td>\n",
       "      <td>1.52</td>\n",
       "      <td>1</td>\n",
       "      <td>201804</td>\n",
       "      <td></td>\n",
       "    </tr>\n",
       "    <tr>\n",
       "      <th>4322382</th>\n",
       "      <td>Q56</td>\n",
       "      <td>06H</td>\n",
       "      <td>Y00056</td>\n",
       "      <td>0301020Q0BBACAC</td>\n",
       "      <td>Spiriva Respimat_Inha 2.5mcg (60D) + Dev</td>\n",
       "      <td>1</td>\n",
       "      <td>23.00</td>\n",
       "      <td>21.34</td>\n",
       "      <td>1</td>\n",
       "      <td>201804</td>\n",
       "      <td></td>\n",
       "    </tr>\n",
       "    <tr>\n",
       "      <th>4322381</th>\n",
       "      <td>Q56</td>\n",
       "      <td>06H</td>\n",
       "      <td>Y00056</td>\n",
       "      <td>0301020I0AAANAN</td>\n",
       "      <td>Ipratrop Brom_Inha 20mcg (200 D) CFF</td>\n",
       "      <td>1</td>\n",
       "      <td>5.56</td>\n",
       "      <td>5.17</td>\n",
       "      <td>1</td>\n",
       "      <td>201804</td>\n",
       "      <td></td>\n",
       "    </tr>\n",
       "    <tr>\n",
       "      <th>4322379</th>\n",
       "      <td>Q56</td>\n",
       "      <td>06H</td>\n",
       "      <td>Y00056</td>\n",
       "      <td>0301011R0AABUBU</td>\n",
       "      <td>Salbutamol_Inha B/A 100mcg (200 D) CFF</td>\n",
       "      <td>1</td>\n",
       "      <td>6.30</td>\n",
       "      <td>5.85</td>\n",
       "      <td>1</td>\n",
       "      <td>201804</td>\n",
       "      <td></td>\n",
       "    </tr>\n",
       "  </tbody>\n",
       "</table>\n",
       "</div>"
      ],
      "text/plain": [
       "         SHA  PCT PRACTICE_CODE         BNF_CODE  \\\n",
       "4240709  Q56  06H        D81037  1308010Z0AAAAAA   \n",
       "4269129  Q56  06H        D81058  1308010Z0BBABAB   \n",
       "4237098  Q56  06H        D81034  21300000704       \n",
       "4270671  Q56  06H        D81059  21010230144       \n",
       "4200627  Q56  06H        D81012  0402020ABBBAAAA   \n",
       "4200628  Q56  06H        D81012  0402020ADAAAAAA   \n",
       "4200630  Q56  06H        D81012  0402020G0BBAAAA   \n",
       "4322382  Q56  06H        Y00056  0301020Q0BBACAC   \n",
       "4322381  Q56  06H        Y00056  0301020I0AAANAN   \n",
       "4322379  Q56  06H        Y00056  0301011R0AABUBU   \n",
       "\n",
       "                                         BNF_NAME  ITEMS     NIC  ACT_COST  \\\n",
       "4240709  Ingenol Mebutate_Gel 150mcg/g                 1   21.67     20.21   \n",
       "4269129  Picato_Gel 500mcg/g                           1   65.00     60.28   \n",
       "4237098  Xailin Carbomer Eye Gel 10g                   1    3.28      3.05   \n",
       "4270671  Space Chamber Plus Compact                    1    4.26      3.95   \n",
       "4200627  Xeplion_Inj 50mg/0.5ml Pfs                    1  183.92    170.58   \n",
       "4200628  Aripiprazole_Inj 400mg Vl + Dil               1  220.41    204.43   \n",
       "4200630  Depixol_Inj 20mg/ml 1ml Amp                   1    1.52      1.52   \n",
       "4322382  Spiriva Respimat_Inha 2.5mcg (60D) + Dev      1   23.00     21.34   \n",
       "4322381  Ipratrop Brom_Inha 20mcg (200 D) CFF          1    5.56      5.17   \n",
       "4322379  Salbutamol_Inha B/A 100mcg (200 D) CFF        1    6.30      5.85   \n",
       "\n",
       "         QUANTITY  PERIOD                      \n",
       "4240709         0  201804                      \n",
       "4269129         0  201804                      \n",
       "4237098         1  201804                      \n",
       "4270671         1  201804                      \n",
       "4200627         1  201804                      \n",
       "4200628         1  201804                      \n",
       "4200630         1  201804                      \n",
       "4322382         1  201804                      \n",
       "4322381         1  201804                      \n",
       "4322379         1  201804                      "
      ]
     },
     "execution_count": 31,
     "metadata": {},
     "output_type": "execute_result"
    }
   ],
   "source": [
    "cambridge_sorted = _Cambridge.sort_values('QUANTITY', axis=0, ascending=True)\n",
    "cambridge_sorted_bottom10 = cambridge_sorted.head(10)\n",
    "cambridge_sorted_bottom10"
   ]
  },
  {
   "cell_type": "markdown",
   "metadata": {},
   "source": [
    "2.1 For those practices in Cambridge, totally there was 897437 patients registered. The total amount of prescriptions was 90268737. Then, by using the ACT COST column, results showed that the total actual cost of these prescriptions was 8521724.4 pounds. As for the top 10 most frequent drugs prescribed in Cambridge, which including “Fortisip Compact_Liq (8 Flav)”, “Nutrison Pack_Energy”, “Paracet_Tab 500mg” and so on. The top 10 frequent drugs prescription amounts ranged between 257625 to 112000 in Cambridge. And the bottom 10 less frequent drugs prescribed in Cambridge included “Ingenol Mebutate_Gel 150mcg/g”, “Picato_Gel 500mcg/g”, “Xailin Carbomer Eye Gel 10g” and so on. These bottom 10 less frequent prescribed drugs were normally being used only once or not been prescribe, which was similar with the situation in London."
   ]
  },
  {
   "cell_type": "markdown",
   "metadata": {},
   "source": [
    "2.2\n",
    "After understanding the basic situations of patients registered and GP prescriptions in the two cities, we further compared the findings between the two cities. Comparing with London, patients registered and practices amounts were less than that in Cambridge, which was (9851208 patients vs 897437 patients) and (1323 practices codes vs 94 practices codes), respectively. In April 2018, the total prescriptions in London was 890389995 and the corresponding actual cost of these prescriptions was 76586738.7 pounds, which were higher than the 90268737 prescriptions and their corresponding cost of prescriptions 8521724.4 pounds in Cambridge. But, the average prescriptions in London was 635.4 times, which was less than the average prescriptions in Cambridge (690.8 times). As for the average cost of these prescriptions, the average cost was also lower in London (54.7 pounds) compared with that in Cambridge (65.2 pounds). The average prescriptions and their corresponding average cost were both lower in London in April 2018. \n"
   ]
  },
  {
   "cell_type": "markdown",
   "metadata": {},
   "source": [
    "### 3. Describe total number of prescriptions and their total actual cost (using the ACT COST column) across all practices for drugs related to:"
   ]
  },
  {
   "cell_type": "markdown",
   "metadata": {},
   "source": [
    "### 3.1. cardiovascular disease (British National Formulary chapter 2)"
   ]
  },
  {
   "cell_type": "code",
   "execution_count": 32,
   "metadata": {
    "scrolled": false
   },
   "outputs": [
    {
     "data": {
      "text/html": [
       "<div>\n",
       "<style scoped>\n",
       "    .dataframe tbody tr th:only-of-type {\n",
       "        vertical-align: middle;\n",
       "    }\n",
       "\n",
       "    .dataframe tbody tr th {\n",
       "        vertical-align: top;\n",
       "    }\n",
       "\n",
       "    .dataframe thead th {\n",
       "        text-align: right;\n",
       "    }\n",
       "</style>\n",
       "<table border=\"1\" class=\"dataframe\">\n",
       "  <thead>\n",
       "    <tr style=\"text-align: right;\">\n",
       "      <th></th>\n",
       "      <th>SHA</th>\n",
       "      <th>PCT</th>\n",
       "      <th>PRACTICE_CODE</th>\n",
       "      <th>BNF_CODE</th>\n",
       "      <th>BNF_NAME</th>\n",
       "      <th>ITEMS</th>\n",
       "      <th>NIC</th>\n",
       "      <th>ACT_COST</th>\n",
       "      <th>QUANTITY</th>\n",
       "      <th>PERIOD</th>\n",
       "      <th></th>\n",
       "    </tr>\n",
       "  </thead>\n",
       "  <tbody>\n",
       "    <tr>\n",
       "      <th>28</th>\n",
       "      <td>Q44</td>\n",
       "      <td>RTV</td>\n",
       "      <td>Y05294</td>\n",
       "      <td>0204000R0AAAHAH</td>\n",
       "      <td>Propranolol HCl_Tab 10mg</td>\n",
       "      <td>4</td>\n",
       "      <td>7.12</td>\n",
       "      <td>6.65</td>\n",
       "      <td>224</td>\n",
       "      <td>201804</td>\n",
       "      <td></td>\n",
       "    </tr>\n",
       "    <tr>\n",
       "      <th>29</th>\n",
       "      <td>Q44</td>\n",
       "      <td>RTV</td>\n",
       "      <td>Y05294</td>\n",
       "      <td>0204000R0AAAJAJ</td>\n",
       "      <td>Propranolol HCl_Tab 40mg</td>\n",
       "      <td>3</td>\n",
       "      <td>1.35</td>\n",
       "      <td>1.59</td>\n",
       "      <td>42</td>\n",
       "      <td>201804</td>\n",
       "      <td></td>\n",
       "    </tr>\n",
       "    <tr>\n",
       "      <th>337</th>\n",
       "      <td>Q44</td>\n",
       "      <td>RXA</td>\n",
       "      <td>Y00327</td>\n",
       "      <td>0202020D0AAAEAE</td>\n",
       "      <td>Bumetanide_Tab 1mg</td>\n",
       "      <td>1</td>\n",
       "      <td>0.26</td>\n",
       "      <td>0.35</td>\n",
       "      <td>6</td>\n",
       "      <td>201804</td>\n",
       "      <td></td>\n",
       "    </tr>\n",
       "    <tr>\n",
       "      <th>338</th>\n",
       "      <td>Q44</td>\n",
       "      <td>RXA</td>\n",
       "      <td>Y00327</td>\n",
       "      <td>0202020L0AABBBB</td>\n",
       "      <td>Furosemide_Tab 20mg</td>\n",
       "      <td>1</td>\n",
       "      <td>0.13</td>\n",
       "      <td>0.23</td>\n",
       "      <td>10</td>\n",
       "      <td>201804</td>\n",
       "      <td></td>\n",
       "    </tr>\n",
       "    <tr>\n",
       "      <th>339</th>\n",
       "      <td>Q44</td>\n",
       "      <td>RXA</td>\n",
       "      <td>Y00327</td>\n",
       "      <td>0202020L0AABDBD</td>\n",
       "      <td>Furosemide_Tab 40mg</td>\n",
       "      <td>1</td>\n",
       "      <td>0.17</td>\n",
       "      <td>0.27</td>\n",
       "      <td>14</td>\n",
       "      <td>201804</td>\n",
       "      <td></td>\n",
       "    </tr>\n",
       "  </tbody>\n",
       "</table>\n",
       "</div>"
      ],
      "text/plain": [
       "     SHA  PCT PRACTICE_CODE         BNF_CODE  \\\n",
       "28   Q44  RTV        Y05294  0204000R0AAAHAH   \n",
       "29   Q44  RTV        Y05294  0204000R0AAAJAJ   \n",
       "337  Q44  RXA        Y00327  0202020D0AAAEAE   \n",
       "338  Q44  RXA        Y00327  0202020L0AABBBB   \n",
       "339  Q44  RXA        Y00327  0202020L0AABDBD   \n",
       "\n",
       "                                     BNF_NAME  ITEMS   NIC  ACT_COST  \\\n",
       "28   Propranolol HCl_Tab 10mg                      4  7.12      6.65   \n",
       "29   Propranolol HCl_Tab 40mg                      3  1.35      1.59   \n",
       "337  Bumetanide_Tab 1mg                            1  0.26      0.35   \n",
       "338  Furosemide_Tab 20mg                           1  0.13      0.23   \n",
       "339  Furosemide_Tab 40mg                           1  0.17      0.27   \n",
       "\n",
       "     QUANTITY  PERIOD                      \n",
       "28        224  201804                      \n",
       "29         42  201804                      \n",
       "337         6  201804                      \n",
       "338        10  201804                      \n",
       "339        14  201804                      "
      ]
     },
     "execution_count": 32,
     "metadata": {},
     "output_type": "execute_result"
    }
   ],
   "source": [
    "Cardiovascular = T01.loc[T01['BNF_CODE'].str.startswith('020')]\n",
    "Cardiovascular.head()"
   ]
  },
  {
   "cell_type": "code",
   "execution_count": 33,
   "metadata": {},
   "outputs": [],
   "source": [
    "Cardiovascular_QUANTITY=np.array(Cardiovascular.QUANTITY)"
   ]
  },
  {
   "cell_type": "code",
   "execution_count": 34,
   "metadata": {},
   "outputs": [
    {
     "data": {
      "text/plain": [
       "732241267"
      ]
     },
     "execution_count": 34,
     "metadata": {},
     "output_type": "execute_result"
    }
   ],
   "source": [
    "sum(Cardiovascular_QUANTITY)"
   ]
  },
  {
   "cell_type": "code",
   "execution_count": 35,
   "metadata": {},
   "outputs": [],
   "source": [
    "Cardiovascular_COST=np.array(Cardiovascular.ACT_COST)"
   ]
  },
  {
   "cell_type": "code",
   "execution_count": 36,
   "metadata": {},
   "outputs": [
    {
     "data": {
      "text/plain": [
       "77465225.95001376"
      ]
     },
     "execution_count": 36,
     "metadata": {},
     "output_type": "execute_result"
    }
   ],
   "source": [
    "sum(Cardiovascular_COST)"
   ]
  },
  {
   "cell_type": "markdown",
   "metadata": {},
   "source": [
    "### 3.2. antidepressants (British National Formulary chapter 4.3)"
   ]
  },
  {
   "cell_type": "code",
   "execution_count": 37,
   "metadata": {
    "scrolled": true
   },
   "outputs": [
    {
     "data": {
      "text/plain": [
       "(214223401, 16853470.85999925)"
      ]
     },
     "execution_count": 37,
     "metadata": {},
     "output_type": "execute_result"
    }
   ],
   "source": [
    "Antidepressant = T01.loc[T01['BNF_CODE'].str.startswith('04030')]\n",
    "sum(Antidepressant.QUANTITY),sum(Antidepressant.ACT_COST)"
   ]
  },
  {
   "cell_type": "markdown",
   "metadata": {},
   "source": [
    "3. BNF code was used to identify drugs prescribed which related to cardiovascular disease (British National Formulary chapter 2) and antidepressants (British National Formulary chapter 4.3). We found that BNF code which started with 020 represented drugs for cardiovascular disease. The result showed that the total number of prescriptions for cardiovascular disease was 732241267, and their corresponding total actual cost was 77565226.0 pounds. For drugs related to antidepressants, there was 214223401 prescriptions in total, which corresponded 16853470.9 pounds total actual cost of prescriptions."
   ]
  },
  {
   "cell_type": "markdown",
   "metadata": {},
   "source": [
    "### 4. Describe the total spending and the relative costs per patient across all practices for the month of April 2018:"
   ]
  },
  {
   "cell_type": "code",
   "execution_count": 38,
   "metadata": {},
   "outputs": [],
   "source": [
    "PATIENT = pd.DataFrame(T04.groupby(T04.PRACTICE_CODE).apply(lambda subf: subf['NUMBER_OF_PATIENTS'].sum()))\n",
    "PATIENT.columns = ['NUMBER_OF_PATIENTS']\n",
    "PATIENT.reset_index(inplace=True)"
   ]
  },
  {
   "cell_type": "code",
   "execution_count": 39,
   "metadata": {
    "scrolled": false
   },
   "outputs": [],
   "source": [
    "COST = pd.DataFrame(T01.groupby(T01.PRACTICE_CODE).apply(lambda subf: subf['ACT_COST'].sum()))\n",
    "COST.columns = ['ACT_COST']\n",
    "COST.reset_index(inplace=True)"
   ]
  },
  {
   "cell_type": "code",
   "execution_count": 40,
   "metadata": {},
   "outputs": [],
   "source": [
    "QUANTITY = pd.DataFrame(T01.groupby(T01.PRACTICE_CODE).apply(lambda subf: subf['QUANTITY'].sum()))\n",
    "QUANTITY.columns = ['QUANTITY']\n",
    "QUANTITY.reset_index(inplace=True)"
   ]
  },
  {
   "cell_type": "code",
   "execution_count": 41,
   "metadata": {},
   "outputs": [],
   "source": [
    "merged = pd.merge(COST, QUANTITY [['PRACTICE_CODE', 'QUANTITY']], left_on='PRACTICE_CODE' , right_on='PRACTICE_CODE')"
   ]
  },
  {
   "cell_type": "code",
   "execution_count": 42,
   "metadata": {},
   "outputs": [],
   "source": [
    "merged = pd.merge(merged, PATIENT [['PRACTICE_CODE', 'NUMBER_OF_PATIENTS']], left_on='PRACTICE_CODE' , right_on='PRACTICE_CODE')"
   ]
  },
  {
   "cell_type": "code",
   "execution_count": 43,
   "metadata": {
    "scrolled": true
   },
   "outputs": [
    {
     "data": {
      "text/html": [
       "<div>\n",
       "<style scoped>\n",
       "    .dataframe tbody tr th:only-of-type {\n",
       "        vertical-align: middle;\n",
       "    }\n",
       "\n",
       "    .dataframe tbody tr th {\n",
       "        vertical-align: top;\n",
       "    }\n",
       "\n",
       "    .dataframe thead th {\n",
       "        text-align: right;\n",
       "    }\n",
       "</style>\n",
       "<table border=\"1\" class=\"dataframe\">\n",
       "  <thead>\n",
       "    <tr style=\"text-align: right;\">\n",
       "      <th></th>\n",
       "      <th>PRACTICE_CODE</th>\n",
       "      <th>ACT_COST</th>\n",
       "      <th>QUANTITY</th>\n",
       "      <th>NUMBER_OF_PATIENTS</th>\n",
       "      <th>COSTS_PER_PATIENT</th>\n",
       "    </tr>\n",
       "  </thead>\n",
       "  <tbody>\n",
       "    <tr>\n",
       "      <th>0</th>\n",
       "      <td>A81001</td>\n",
       "      <td>52194.63</td>\n",
       "      <td>668445</td>\n",
       "      <td>4086</td>\n",
       "      <td>12.774016</td>\n",
       "    </tr>\n",
       "    <tr>\n",
       "      <th>1</th>\n",
       "      <td>A81002</td>\n",
       "      <td>268607.26</td>\n",
       "      <td>2831262</td>\n",
       "      <td>19906</td>\n",
       "      <td>13.493784</td>\n",
       "    </tr>\n",
       "    <tr>\n",
       "      <th>2</th>\n",
       "      <td>A81004</td>\n",
       "      <td>139115.40</td>\n",
       "      <td>1533857</td>\n",
       "      <td>10165</td>\n",
       "      <td>13.685726</td>\n",
       "    </tr>\n",
       "    <tr>\n",
       "      <th>3</th>\n",
       "      <td>A81005</td>\n",
       "      <td>102914.06</td>\n",
       "      <td>974372</td>\n",
       "      <td>8016</td>\n",
       "      <td>12.838580</td>\n",
       "    </tr>\n",
       "    <tr>\n",
       "      <th>4</th>\n",
       "      <td>A81006</td>\n",
       "      <td>183226.79</td>\n",
       "      <td>1949738</td>\n",
       "      <td>14497</td>\n",
       "      <td>12.638945</td>\n",
       "    </tr>\n",
       "  </tbody>\n",
       "</table>\n",
       "</div>"
      ],
      "text/plain": [
       "  PRACTICE_CODE   ACT_COST  QUANTITY  NUMBER_OF_PATIENTS  COSTS_PER_PATIENT\n",
       "0        A81001   52194.63    668445                4086          12.774016\n",
       "1        A81002  268607.26   2831262               19906          13.493784\n",
       "2        A81004  139115.40   1533857               10165          13.685726\n",
       "3        A81005  102914.06    974372                8016          12.838580\n",
       "4        A81006  183226.79   1949738               14497          12.638945"
      ]
     },
     "execution_count": 43,
     "metadata": {},
     "output_type": "execute_result"
    }
   ],
   "source": [
    "merged['COSTS_PER_PATIENT'] = merged['ACT_COST'] / merged['NUMBER_OF_PATIENTS']\n",
    "merged.head()"
   ]
  },
  {
   "cell_type": "markdown",
   "metadata": {},
   "source": [
    "### 4.1 visualize the monthly total spending per registered patients using a scatterplot and provide a trend line"
   ]
  },
  {
   "cell_type": "code",
   "execution_count": 44,
   "metadata": {
    "scrolled": true
   },
   "outputs": [
    {
     "data": {
      "text/plain": [
       "(0, 10461532)"
      ]
     },
     "execution_count": 44,
     "metadata": {},
     "output_type": "execute_result"
    },
    {
     "data": {
      "image/png": "[encoded data removed]",
      "text/plain": [
       "<Figure size 576x432 with 1 Axes>"
      ]
     },
     "metadata": {
      "needs_background": "light"
     },
     "output_type": "display_data"
    }
   ],
   "source": [
    "import matplotlib.pyplot as plt\n",
    "from math import floor\n",
    "fig=plt.figure(figsize=(8, 6))\n",
    "ax=fig.add_subplot(111)\n",
    "x = merged['ACT_COST']\n",
    "y = merged['QUANTITY']\n",
    "ax.scatter(x, y)\n",
    "fit = np.polyfit(x, y, deg=1)\n",
    "ax.plot(x, fit[0] * x + fit[1], color='red')\n",
    "ax.set_title('Scatter plot: monthly total spending per registered patients')\n",
    "ax.set_xlabel(\"monthly total spending per registered patient\",fontsize=12)\n",
    "ax.set_ylabel(\"total number of practices\",fontsize=12)\n",
    "max_x = floor(merged.ACT_COST.max())\n",
    "max_y = floor(merged.QUANTITY.max())\n",
    "ax.set_xlim(0, max_x)\n",
    "ax.set_ylim(0, max_y)"
   ]
  },
  {
   "cell_type": "markdown",
   "metadata": {},
   "source": [
    "4.1 The total spending and the relative costs per patient across all practices in April 2018\n",
    "The X axis of the above scatterplot was the monthly total spending per registered patients and the Y axis represented the number of prescriptions. As shown in the scatterplot, there was a nearly linear correlation between the total spending and the number of prescriptions across all practices in April 2018. \n"
   ]
  },
  {
   "cell_type": "markdown",
   "metadata": {},
   "source": [
    "### 4.2 generate a histogram for relative spending for all practices and fit a Gaussian (normal) curve"
   ]
  },
  {
   "cell_type": "code",
   "execution_count": 45,
   "metadata": {
    "scrolled": true
   },
   "outputs": [
    {
     "name": "stderr",
     "output_type": "stream",
     "text": [
      "/anaconda3/lib/python3.7/site-packages/matplotlib/axes/_axes.py:6571: UserWarning: The 'normed' kwarg is deprecated, and has been replaced by the 'density' kwarg.\n",
      "  warnings.warn(\"The 'normed' kwarg is deprecated, and has been \"\n"
     ]
    },
    {
     "data": {
      "image/png": "[encoded data removed]",
      "text/plain": [
       "<Figure size 432x288 with 1 Axes>"
      ]
     },
     "metadata": {
      "needs_background": "light"
     },
     "output_type": "display_data"
    }
   ],
   "source": [
    "from scipy.stats import norm\n",
    "\n",
    "data=merged.COSTS_PER_PATIENT.values\n",
    "\n",
    "plt.hist(data, bins=5000,normed=True)\n",
    "plt.xlabel(\"relative spending for all practices\")\n",
    "plt.ylabel(\"Frequency\")\n",
    "\n",
    "min_x = merged['COSTS_PER_PATIENT'].quantile(.01)\n",
    "max_x = merged['COSTS_PER_PATIENT'].quantile(.99)\n",
    "plt.xlim(0, 25)\n",
    "\n",
    "plt.title(\"relative spending for all practices\")\n",
    "plt.show()"
   ]
  },
  {
   "cell_type": "code",
   "execution_count": 46,
   "metadata": {},
   "outputs": [
    {
     "data": {
      "text/plain": [
       "(11.60649702182044, 38.8662432619554)"
      ]
     },
     "execution_count": 46,
     "metadata": {},
     "output_type": "execute_result"
    }
   ],
   "source": [
    "np.mean(data),np.std(data)"
   ]
  },
  {
   "cell_type": "markdown",
   "metadata": {},
   "source": [
    "4.2 Then, in order to further understanding the relationship between the relative costs per patient and the relative costs per patient across all practices in April 2018. A histogram was generated for relative spending for all practices and fit a Gaussian (normal) curve, where we can find that there was a nearly normal distribution. The mean cost of per patient across all practices was 11. 6 pounds (SD=38.9) in April 2018."
   ]
  }
 ],
 "metadata": {
  "anaconda-cloud": {},
  "kernelspec": {
   "display_name": "Python 3",
   "language": "python",
   "name": "python3"
  },
  "language_info": {
   "codemirror_mode": {
    "name": "ipython",
    "version": 3
   },
   "file_extension": ".py",
   "mimetype": "text/x-python",
   "name": "python",
   "nbconvert_exporter": "python",
   "pygments_lexer": "ipython3",
   "version": "3.7.0"
  }
 },
 "nbformat": 4,
 "nbformat_minor": 1
}
